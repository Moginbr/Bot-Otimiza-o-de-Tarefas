{
 "cells": [
  {
   "cell_type": "code",
   "execution_count": null,
   "metadata": {},
   "outputs": [],
   "source": [
    "import pandas as pd\n",
    "\n",
    "tabela = pd.read_excel('NotasEmitir.xlsx')\n",
    "display(tabela)"
   ]
  },
  {
   "cell_type": "code",
   "execution_count": null,
   "metadata": {},
   "outputs": [],
   "source": [
    "from selenium import webdriver\n",
    "from webdriver_manager.chrome import ChromeDriverManager\n",
    "from selenium.webdriver.chrome.options import Options\n",
    "from selenium.webdriver.common.keys import Keys\n",
    "import time "
   ]
  },
  {
   "cell_type": "code",
   "execution_count": null,
   "metadata": {},
   "outputs": [],
   "source": [
    "brave_options = Options()\n",
    "brave_options.binary_location = 'C:/Program Files/BraveSoftware/Brave-Browser/Application/brave.exe'\n",
    "\n",
    "webdriver_manager = ChromeDriverManager().install()\n",
    "driver = webdriver.Chrome(executable_path=webdriver_manager, options=brave_options)\n",
    "\n",
    "estados = ['AC', 'AL', 'AP', 'AM', 'BA', 'CE', 'DF', 'ES', 'GO', 'MA', 'MT', 'MS', 'MG', 'PA', 'PB', 'PR', 'PE', 'PI', 'RJ', 'RN', 'RS', 'RO', 'RR', 'SC', 'SP', 'SE', 'TO']\n",
    "\n",
    "\n",
    "for i, id in enumerate(tabela):\n",
    "        nome = tabela.loc[i, \"Cliente\"]\n",
    "        endereco = tabela.loc[i, \"Endereço\"]\n",
    "        bairro = tabela.loc[i, \"Bairro\"]\n",
    "        municipio = tabela.loc[i, \"Municipio\"]\n",
    "        cep = tabela.loc[i, \"CEP\"]\n",
    "        uf = tabela.loc[i, \"UF\"]\n",
    "        cpf_cnpj = tabela.loc[i,\"CPF/CNPJ\"]\n",
    "        incricao = tabela.loc[i,\"Inscricao Estadual\"]\n",
    "        desc = tabela.loc[i,\"Descrição\"]\n",
    "        quant = tabela.loc[i,\"Quantidade\"]\n",
    "        valor_uni = tabela.loc[i,\"Valor Unitario\"]\n",
    "        valor_total = tabela.loc[i,\"Valor Total\"]\n",
    "\n",
    "        driver.get(\"https://docs.google.com/forms/d/e/1FAIpQLSf-Sv3iqoTkSwvzxetDC6-_FZdrvppOmgkCQ3vSAfHYC2Rpag/viewform\")\n",
    "\n",
    "        time.sleep(2)\n",
    "\n",
    "        #preencher primeiro campo na sequência.\n",
    "        driver.find_element('xpath','//*[@id=\"mG61Hd\"]/div[2]/div/div[2]/div[1]/div/div/div[2]/div/div[1]/div/div[1]/input').send_keys(nome)\n",
    "        \n",
    "        driver.find_element('xpath','//*[@id=\"mG61Hd\"]/div[2]/div/div[2]/div[2]/div/div/div[2]/div/div[1]/div[2]/textarea').send_keys(endereco)\n",
    "        \n",
    "        driver.find_element('xpath','//*[@id=\"mG61Hd\"]/div[2]/div/div[2]/div[3]/div/div/div[2]/div/div[1]/div/div[1]/input').send_keys(bairro)\n",
    "        \n",
    "        driver.find_element('xpath','//*[@id=\"mG61Hd\"]/div[2]/div/div[2]/div[4]/div/div/div[2]/div/div[1]/div[2]/textarea').send_keys(municipio)\n",
    "\n",
    "        driver.find_element('xpath','//*[@id=\"mG61Hd\"]/div[2]/div/div[2]/div[5]/div/div/div[2]/div/div[1]/div/div[1]/input').send_keys(str(cep))\n",
    "\n",
    "        driver.find_element('xpath', '//*[@id=\"mG61Hd\"]/div[2]/div/div[2]/div[6]/div/div/div[2]/div/div[1]/div[1]/div[1]/span').click()\n",
    "        time.sleep(1)\n",
    "        \n",
    "\n",
    "        for i in estados:\n",
    "                if i == uf:\n",
    "                        driver.find_element('xpath',f'//*[@id=\"mG61Hd\"]/div[2]/div/div[2]/div[6]/div/div/div[2]/div/div[2]/div[{estados.index(uf) + 3}]/span').click()\n",
    "                        break \n",
    "\n",
    "        driver.find_element('xpath', '//*[@id=\"mG61Hd\"]/div[2]/div/div[2]/div[7]/div/div/div[2]/div/div[1]/div/div[1]/input').send_keys(str(cpf_cnpj))\n",
    "        driver.find_element('xpath', '//*[@id=\"mG61Hd\"]/div[2]/div/div[2]/div[8]/div/div/div[2]/div/div[1]/div/div[1]/input').send_keys(str(incricao))\n",
    "        driver.find_element('xpath', '//*[@id=\"mG61Hd\"]/div[2]/div/div[3]/div[1]/div[1]/div/span').click()\n",
    "\n",
    "        driver.find_element('xpath','//*[@id=\"mG61Hd\"]/div[2]/div/div[2]/div[2]/div/div/div[2]/div/div[1]/div[2]/textarea').send_keys(desc)\n",
    "        driver.find_element('xpath', '//*[@id=\"mG61Hd\"]/div[2]/div/div[2]/div[3]/div/div/div[2]/div/div[1]/div/div[1]/input').send_keys(str(quant))\n",
    "        driver.find_element('xpath', '//*[@id=\"mG61Hd\"]/div[2]/div/div[2]/div[4]/div/div/div[2]/div/div[1]/div/div[1]/input').send_keys(str(valor_uni))\n",
    "        driver.find_element('xpath', '//*[@id=\"mG61Hd\"]/div[2]/div/div[2]/div[5]/div/div/div[2]/div/div[1]/div/div[1]/input').send_keys(str(valor_total))\n",
    "\n",
    "        time.sleep(1)\n",
    "\n",
    "        driver.find_element('xpath', '//*[@id=\"mG61Hd\"]/div[2]/div/div[3]/div[1]/div[1]/div[2]/span').click()"
   ]
  }
 ],
 "metadata": {
  "kernelspec": {
   "display_name": "Python 3",
   "language": "python",
   "name": "python3"
  },
  "language_info": {
   "codemirror_mode": {
    "name": "ipython",
    "version": 3
   },
   "file_extension": ".py",
   "mimetype": "text/x-python",
   "name": "python",
   "nbconvert_exporter": "python",
   "pygments_lexer": "ipython3",
   "version": "3.9.13"
  },
  "orig_nbformat": 4
 },
 "nbformat": 4,
 "nbformat_minor": 2
}
